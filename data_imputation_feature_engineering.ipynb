{
 "cells": [
  {
   "cell_type": "markdown",
   "metadata": {},
   "source": [
    "## Lending Club (LC) Loan Data (2015 - 2018 Q2)"
   ]
  },
  {
   "cell_type": "code",
   "execution_count": 174,
   "metadata": {},
   "outputs": [],
   "source": [
    "# Import standard libraries needed for data exploration \n",
    "import os\n",
    "import numpy as np\n",
    "import pandas as pd\n",
    "import warnings\n",
    "warnings.filterwarnings('ignore')\n",
    "import matplotlib.pyplot as plt\n",
    "from collections import OrderedDict\n",
    "\n",
    "pd.options.display.max_rows = 100"
   ]
  },
  {
   "cell_type": "markdown",
   "metadata": {},
   "source": [
    "## Load Data"
   ]
  },
  {
   "cell_type": "code",
   "execution_count": 33,
   "metadata": {},
   "outputs": [],
   "source": [
    "data = pd.read_csv('./data/data_2015_2018.csv')"
   ]
  },
  {
   "cell_type": "code",
   "execution_count": 34,
   "metadata": {
    "scrolled": true
   },
   "outputs": [
    {
     "data": {
      "text/html": [
       "<div>\n",
       "<style scoped>\n",
       "    .dataframe tbody tr th:only-of-type {\n",
       "        vertical-align: middle;\n",
       "    }\n",
       "\n",
       "    .dataframe tbody tr th {\n",
       "        vertical-align: top;\n",
       "    }\n",
       "\n",
       "    .dataframe thead th {\n",
       "        text-align: right;\n",
       "    }\n",
       "</style>\n",
       "<table border=\"1\" class=\"dataframe\">\n",
       "  <thead>\n",
       "    <tr style=\"text-align: right;\">\n",
       "      <th></th>\n",
       "      <th>feature</th>\n",
       "      <th>missing</th>\n",
       "      <th>data_type</th>\n",
       "      <th>unique_count</th>\n",
       "      <th>null_mean</th>\n",
       "      <th>not_null_mean</th>\n",
       "    </tr>\n",
       "  </thead>\n",
       "  <tbody>\n",
       "    <tr>\n",
       "      <th>0</th>\n",
       "      <td>loan_amnt</td>\n",
       "      <td>0</td>\n",
       "      <td>float64</td>\n",
       "      <td>1561</td>\n",
       "      <td>NaN</td>\n",
       "      <td>0.124475</td>\n",
       "    </tr>\n",
       "    <tr>\n",
       "      <th>1</th>\n",
       "      <td>term</td>\n",
       "      <td>0</td>\n",
       "      <td>object</td>\n",
       "      <td>2</td>\n",
       "      <td>NaN</td>\n",
       "      <td>0.124475</td>\n",
       "    </tr>\n",
       "    <tr>\n",
       "      <th>2</th>\n",
       "      <td>int_rate</td>\n",
       "      <td>0</td>\n",
       "      <td>object</td>\n",
       "      <td>246</td>\n",
       "      <td>NaN</td>\n",
       "      <td>0.124475</td>\n",
       "    </tr>\n",
       "    <tr>\n",
       "      <th>3</th>\n",
       "      <td>installment</td>\n",
       "      <td>0</td>\n",
       "      <td>float64</td>\n",
       "      <td>78757</td>\n",
       "      <td>NaN</td>\n",
       "      <td>0.124475</td>\n",
       "    </tr>\n",
       "    <tr>\n",
       "      <th>4</th>\n",
       "      <td>grade</td>\n",
       "      <td>0</td>\n",
       "      <td>object</td>\n",
       "      <td>7</td>\n",
       "      <td>NaN</td>\n",
       "      <td>0.124475</td>\n",
       "    </tr>\n",
       "    <tr>\n",
       "      <th>5</th>\n",
       "      <td>sub_grade</td>\n",
       "      <td>0</td>\n",
       "      <td>object</td>\n",
       "      <td>35</td>\n",
       "      <td>NaN</td>\n",
       "      <td>0.124475</td>\n",
       "    </tr>\n",
       "    <tr>\n",
       "      <th>6</th>\n",
       "      <td>emp_title</td>\n",
       "      <td>104986</td>\n",
       "      <td>object</td>\n",
       "      <td>313726</td>\n",
       "      <td>0.151134</td>\n",
       "      <td>0.122521</td>\n",
       "    </tr>\n",
       "    <tr>\n",
       "      <th>7</th>\n",
       "      <td>emp_length</td>\n",
       "      <td>103798</td>\n",
       "      <td>object</td>\n",
       "      <td>12</td>\n",
       "      <td>0.151795</td>\n",
       "      <td>0.122497</td>\n",
       "    </tr>\n",
       "    <tr>\n",
       "      <th>8</th>\n",
       "      <td>home_ownership</td>\n",
       "      <td>0</td>\n",
       "      <td>object</td>\n",
       "      <td>5</td>\n",
       "      <td>NaN</td>\n",
       "      <td>0.124475</td>\n",
       "    </tr>\n",
       "    <tr>\n",
       "      <th>9</th>\n",
       "      <td>annual_inc</td>\n",
       "      <td>0</td>\n",
       "      <td>float64</td>\n",
       "      <td>69129</td>\n",
       "      <td>NaN</td>\n",
       "      <td>0.124475</td>\n",
       "    </tr>\n",
       "    <tr>\n",
       "      <th>10</th>\n",
       "      <td>verification_status</td>\n",
       "      <td>0</td>\n",
       "      <td>object</td>\n",
       "      <td>3</td>\n",
       "      <td>NaN</td>\n",
       "      <td>0.124475</td>\n",
       "    </tr>\n",
       "    <tr>\n",
       "      <th>11</th>\n",
       "      <td>loan_status</td>\n",
       "      <td>0</td>\n",
       "      <td>int64</td>\n",
       "      <td>2</td>\n",
       "      <td>NaN</td>\n",
       "      <td>0.124475</td>\n",
       "    </tr>\n",
       "    <tr>\n",
       "      <th>12</th>\n",
       "      <td>purpose</td>\n",
       "      <td>0</td>\n",
       "      <td>object</td>\n",
       "      <td>14</td>\n",
       "      <td>NaN</td>\n",
       "      <td>0.124475</td>\n",
       "    </tr>\n",
       "    <tr>\n",
       "      <th>13</th>\n",
       "      <td>title</td>\n",
       "      <td>23305</td>\n",
       "      <td>object</td>\n",
       "      <td>29</td>\n",
       "      <td>0.209955</td>\n",
       "      <td>0.123159</td>\n",
       "    </tr>\n",
       "    <tr>\n",
       "      <th>14</th>\n",
       "      <td>zip_code</td>\n",
       "      <td>1</td>\n",
       "      <td>object</td>\n",
       "      <td>943</td>\n",
       "      <td>0.000000</td>\n",
       "      <td>0.124475</td>\n",
       "    </tr>\n",
       "    <tr>\n",
       "      <th>15</th>\n",
       "      <td>addr_state</td>\n",
       "      <td>0</td>\n",
       "      <td>object</td>\n",
       "      <td>50</td>\n",
       "      <td>NaN</td>\n",
       "      <td>0.124475</td>\n",
       "    </tr>\n",
       "    <tr>\n",
       "      <th>16</th>\n",
       "      <td>dti</td>\n",
       "      <td>1167</td>\n",
       "      <td>float64</td>\n",
       "      <td>9706</td>\n",
       "      <td>0.052271</td>\n",
       "      <td>0.124530</td>\n",
       "    </tr>\n",
       "    <tr>\n",
       "      <th>17</th>\n",
       "      <td>delinq_2yrs</td>\n",
       "      <td>0</td>\n",
       "      <td>float64</td>\n",
       "      <td>35</td>\n",
       "      <td>NaN</td>\n",
       "      <td>0.124475</td>\n",
       "    </tr>\n",
       "    <tr>\n",
       "      <th>18</th>\n",
       "      <td>earliest_cr_line</td>\n",
       "      <td>0</td>\n",
       "      <td>object</td>\n",
       "      <td>728</td>\n",
       "      <td>NaN</td>\n",
       "      <td>0.124475</td>\n",
       "    </tr>\n",
       "    <tr>\n",
       "      <th>19</th>\n",
       "      <td>inq_last_6mths</td>\n",
       "      <td>1</td>\n",
       "      <td>float64</td>\n",
       "      <td>8</td>\n",
       "      <td>0.000000</td>\n",
       "      <td>0.124475</td>\n",
       "    </tr>\n",
       "    <tr>\n",
       "      <th>20</th>\n",
       "      <td>open_acc</td>\n",
       "      <td>0</td>\n",
       "      <td>float64</td>\n",
       "      <td>88</td>\n",
       "      <td>NaN</td>\n",
       "      <td>0.124475</td>\n",
       "    </tr>\n",
       "    <tr>\n",
       "      <th>21</th>\n",
       "      <td>pub_rec</td>\n",
       "      <td>0</td>\n",
       "      <td>float64</td>\n",
       "      <td>39</td>\n",
       "      <td>NaN</td>\n",
       "      <td>0.124475</td>\n",
       "    </tr>\n",
       "    <tr>\n",
       "      <th>22</th>\n",
       "      <td>revol_bal</td>\n",
       "      <td>0</td>\n",
       "      <td>float64</td>\n",
       "      <td>92011</td>\n",
       "      <td>NaN</td>\n",
       "      <td>0.124475</td>\n",
       "    </tr>\n",
       "    <tr>\n",
       "      <th>23</th>\n",
       "      <td>revol_util</td>\n",
       "      <td>1177</td>\n",
       "      <td>object</td>\n",
       "      <td>1293</td>\n",
       "      <td>0.105353</td>\n",
       "      <td>0.124489</td>\n",
       "    </tr>\n",
       "    <tr>\n",
       "      <th>24</th>\n",
       "      <td>total_acc</td>\n",
       "      <td>0</td>\n",
       "      <td>float64</td>\n",
       "      <td>146</td>\n",
       "      <td>NaN</td>\n",
       "      <td>0.124475</td>\n",
       "    </tr>\n",
       "    <tr>\n",
       "      <th>25</th>\n",
       "      <td>initial_list_status</td>\n",
       "      <td>0</td>\n",
       "      <td>object</td>\n",
       "      <td>2</td>\n",
       "      <td>NaN</td>\n",
       "      <td>0.124475</td>\n",
       "    </tr>\n",
       "    <tr>\n",
       "      <th>26</th>\n",
       "      <td>collections_12_mths_ex_med</td>\n",
       "      <td>0</td>\n",
       "      <td>float64</td>\n",
       "      <td>15</td>\n",
       "      <td>NaN</td>\n",
       "      <td>0.124475</td>\n",
       "    </tr>\n",
       "    <tr>\n",
       "      <th>27</th>\n",
       "      <td>application_type</td>\n",
       "      <td>0</td>\n",
       "      <td>object</td>\n",
       "      <td>2</td>\n",
       "      <td>NaN</td>\n",
       "      <td>0.124475</td>\n",
       "    </tr>\n",
       "    <tr>\n",
       "      <th>28</th>\n",
       "      <td>acc_now_delinq</td>\n",
       "      <td>0</td>\n",
       "      <td>float64</td>\n",
       "      <td>9</td>\n",
       "      <td>NaN</td>\n",
       "      <td>0.124475</td>\n",
       "    </tr>\n",
       "    <tr>\n",
       "      <th>29</th>\n",
       "      <td>tot_coll_amt</td>\n",
       "      <td>0</td>\n",
       "      <td>float64</td>\n",
       "      <td>14084</td>\n",
       "      <td>NaN</td>\n",
       "      <td>0.124475</td>\n",
       "    </tr>\n",
       "    <tr>\n",
       "      <th>30</th>\n",
       "      <td>tot_cur_bal</td>\n",
       "      <td>0</td>\n",
       "      <td>float64</td>\n",
       "      <td>434137</td>\n",
       "      <td>NaN</td>\n",
       "      <td>0.124475</td>\n",
       "    </tr>\n",
       "    <tr>\n",
       "      <th>31</th>\n",
       "      <td>open_acc_6m</td>\n",
       "      <td>399785</td>\n",
       "      <td>float64</td>\n",
       "      <td>20</td>\n",
       "      <td>0.183056</td>\n",
       "      <td>0.103894</td>\n",
       "    </tr>\n",
       "    <tr>\n",
       "      <th>32</th>\n",
       "      <td>open_act_il</td>\n",
       "      <td>399784</td>\n",
       "      <td>float64</td>\n",
       "      <td>54</td>\n",
       "      <td>0.183056</td>\n",
       "      <td>0.103894</td>\n",
       "    </tr>\n",
       "    <tr>\n",
       "      <th>33</th>\n",
       "      <td>open_il_12m</td>\n",
       "      <td>399784</td>\n",
       "      <td>float64</td>\n",
       "      <td>20</td>\n",
       "      <td>0.183056</td>\n",
       "      <td>0.103894</td>\n",
       "    </tr>\n",
       "    <tr>\n",
       "      <th>34</th>\n",
       "      <td>open_il_24m</td>\n",
       "      <td>399784</td>\n",
       "      <td>float64</td>\n",
       "      <td>32</td>\n",
       "      <td>0.183056</td>\n",
       "      <td>0.103894</td>\n",
       "    </tr>\n",
       "    <tr>\n",
       "      <th>35</th>\n",
       "      <td>mths_since_rcnt_il</td>\n",
       "      <td>434490</td>\n",
       "      <td>float64</td>\n",
       "      <td>390</td>\n",
       "      <td>0.176681</td>\n",
       "      <td>0.103914</td>\n",
       "    </tr>\n",
       "    <tr>\n",
       "      <th>36</th>\n",
       "      <td>total_bal_il</td>\n",
       "      <td>399784</td>\n",
       "      <td>float64</td>\n",
       "      <td>151705</td>\n",
       "      <td>0.183056</td>\n",
       "      <td>0.103894</td>\n",
       "    </tr>\n",
       "    <tr>\n",
       "      <th>37</th>\n",
       "      <td>open_rv_12m</td>\n",
       "      <td>399784</td>\n",
       "      <td>float64</td>\n",
       "      <td>30</td>\n",
       "      <td>0.183056</td>\n",
       "      <td>0.103894</td>\n",
       "    </tr>\n",
       "    <tr>\n",
       "      <th>38</th>\n",
       "      <td>open_rv_24m</td>\n",
       "      <td>399784</td>\n",
       "      <td>float64</td>\n",
       "      <td>51</td>\n",
       "      <td>0.183056</td>\n",
       "      <td>0.103894</td>\n",
       "    </tr>\n",
       "    <tr>\n",
       "      <th>39</th>\n",
       "      <td>max_bal_bc</td>\n",
       "      <td>399784</td>\n",
       "      <td>float64</td>\n",
       "      <td>32241</td>\n",
       "      <td>0.183056</td>\n",
       "      <td>0.103894</td>\n",
       "    </tr>\n",
       "    <tr>\n",
       "      <th>40</th>\n",
       "      <td>all_util</td>\n",
       "      <td>399937</td>\n",
       "      <td>float64</td>\n",
       "      <td>185</td>\n",
       "      <td>0.183006</td>\n",
       "      <td>0.103901</td>\n",
       "    </tr>\n",
       "    <tr>\n",
       "      <th>41</th>\n",
       "      <td>total_rev_hi_lim</td>\n",
       "      <td>0</td>\n",
       "      <td>float64</td>\n",
       "      <td>24376</td>\n",
       "      <td>NaN</td>\n",
       "      <td>0.124475</td>\n",
       "    </tr>\n",
       "    <tr>\n",
       "      <th>42</th>\n",
       "      <td>inq_fi</td>\n",
       "      <td>399784</td>\n",
       "      <td>float64</td>\n",
       "      <td>33</td>\n",
       "      <td>0.183056</td>\n",
       "      <td>0.103894</td>\n",
       "    </tr>\n",
       "    <tr>\n",
       "      <th>43</th>\n",
       "      <td>total_cu_tl</td>\n",
       "      <td>399785</td>\n",
       "      <td>float64</td>\n",
       "      <td>63</td>\n",
       "      <td>0.183056</td>\n",
       "      <td>0.103894</td>\n",
       "    </tr>\n",
       "    <tr>\n",
       "      <th>44</th>\n",
       "      <td>inq_last_12m</td>\n",
       "      <td>399785</td>\n",
       "      <td>float64</td>\n",
       "      <td>48</td>\n",
       "      <td>0.183056</td>\n",
       "      <td>0.103894</td>\n",
       "    </tr>\n",
       "    <tr>\n",
       "      <th>45</th>\n",
       "      <td>acc_open_past_24mths</td>\n",
       "      <td>0</td>\n",
       "      <td>float64</td>\n",
       "      <td>56</td>\n",
       "      <td>NaN</td>\n",
       "      <td>0.124475</td>\n",
       "    </tr>\n",
       "    <tr>\n",
       "      <th>46</th>\n",
       "      <td>avg_cur_bal</td>\n",
       "      <td>33</td>\n",
       "      <td>float64</td>\n",
       "      <td>81239</td>\n",
       "      <td>0.060606</td>\n",
       "      <td>0.124476</td>\n",
       "    </tr>\n",
       "    <tr>\n",
       "      <th>47</th>\n",
       "      <td>bc_open_to_buy</td>\n",
       "      <td>17592</td>\n",
       "      <td>float64</td>\n",
       "      <td>83642</td>\n",
       "      <td>0.129945</td>\n",
       "      <td>0.124411</td>\n",
       "    </tr>\n",
       "    <tr>\n",
       "      <th>48</th>\n",
       "      <td>bc_util</td>\n",
       "      <td>18363</td>\n",
       "      <td>float64</td>\n",
       "      <td>1443</td>\n",
       "      <td>0.131188</td>\n",
       "      <td>0.124394</td>\n",
       "    </tr>\n",
       "    <tr>\n",
       "      <th>49</th>\n",
       "      <td>chargeoff_within_12_mths</td>\n",
       "      <td>0</td>\n",
       "      <td>float64</td>\n",
       "      <td>11</td>\n",
       "      <td>NaN</td>\n",
       "      <td>0.124475</td>\n",
       "    </tr>\n",
       "    <tr>\n",
       "      <th>50</th>\n",
       "      <td>delinq_amnt</td>\n",
       "      <td>0</td>\n",
       "      <td>float64</td>\n",
       "      <td>2297</td>\n",
       "      <td>NaN</td>\n",
       "      <td>0.124475</td>\n",
       "    </tr>\n",
       "    <tr>\n",
       "      <th>51</th>\n",
       "      <td>mo_sin_old_il_acct</td>\n",
       "      <td>46404</td>\n",
       "      <td>float64</td>\n",
       "      <td>551</td>\n",
       "      <td>0.122231</td>\n",
       "      <td>0.124545</td>\n",
       "    </tr>\n",
       "    <tr>\n",
       "      <th>52</th>\n",
       "      <td>mo_sin_old_rev_tl_op</td>\n",
       "      <td>0</td>\n",
       "      <td>float64</td>\n",
       "      <td>769</td>\n",
       "      <td>NaN</td>\n",
       "      <td>0.124475</td>\n",
       "    </tr>\n",
       "    <tr>\n",
       "      <th>53</th>\n",
       "      <td>mo_sin_rcnt_rev_tl_op</td>\n",
       "      <td>0</td>\n",
       "      <td>float64</td>\n",
       "      <td>316</td>\n",
       "      <td>NaN</td>\n",
       "      <td>0.124475</td>\n",
       "    </tr>\n",
       "    <tr>\n",
       "      <th>54</th>\n",
       "      <td>mo_sin_rcnt_tl</td>\n",
       "      <td>0</td>\n",
       "      <td>float64</td>\n",
       "      <td>219</td>\n",
       "      <td>NaN</td>\n",
       "      <td>0.124475</td>\n",
       "    </tr>\n",
       "    <tr>\n",
       "      <th>55</th>\n",
       "      <td>mort_acc</td>\n",
       "      <td>0</td>\n",
       "      <td>float64</td>\n",
       "      <td>45</td>\n",
       "      <td>NaN</td>\n",
       "      <td>0.124475</td>\n",
       "    </tr>\n",
       "    <tr>\n",
       "      <th>56</th>\n",
       "      <td>mths_since_recent_bc</td>\n",
       "      <td>16662</td>\n",
       "      <td>float64</td>\n",
       "      <td>524</td>\n",
       "      <td>0.129876</td>\n",
       "      <td>0.124416</td>\n",
       "    </tr>\n",
       "    <tr>\n",
       "      <th>57</th>\n",
       "      <td>mths_since_recent_inq</td>\n",
       "      <td>171277</td>\n",
       "      <td>float64</td>\n",
       "      <td>27</td>\n",
       "      <td>0.081342</td>\n",
       "      <td>0.129881</td>\n",
       "    </tr>\n",
       "    <tr>\n",
       "      <th>58</th>\n",
       "      <td>num_accts_ever_120_pd</td>\n",
       "      <td>0</td>\n",
       "      <td>float64</td>\n",
       "      <td>43</td>\n",
       "      <td>NaN</td>\n",
       "      <td>0.124475</td>\n",
       "    </tr>\n",
       "    <tr>\n",
       "      <th>59</th>\n",
       "      <td>num_actv_bc_tl</td>\n",
       "      <td>0</td>\n",
       "      <td>float64</td>\n",
       "      <td>41</td>\n",
       "      <td>NaN</td>\n",
       "      <td>0.124475</td>\n",
       "    </tr>\n",
       "    <tr>\n",
       "      <th>60</th>\n",
       "      <td>num_actv_rev_tl</td>\n",
       "      <td>0</td>\n",
       "      <td>float64</td>\n",
       "      <td>56</td>\n",
       "      <td>NaN</td>\n",
       "      <td>0.124475</td>\n",
       "    </tr>\n",
       "    <tr>\n",
       "      <th>61</th>\n",
       "      <td>num_bc_sats</td>\n",
       "      <td>0</td>\n",
       "      <td>float64</td>\n",
       "      <td>59</td>\n",
       "      <td>NaN</td>\n",
       "      <td>0.124475</td>\n",
       "    </tr>\n",
       "    <tr>\n",
       "      <th>62</th>\n",
       "      <td>num_bc_tl</td>\n",
       "      <td>0</td>\n",
       "      <td>float64</td>\n",
       "      <td>74</td>\n",
       "      <td>NaN</td>\n",
       "      <td>0.124475</td>\n",
       "    </tr>\n",
       "    <tr>\n",
       "      <th>63</th>\n",
       "      <td>num_il_tl</td>\n",
       "      <td>0</td>\n",
       "      <td>float64</td>\n",
       "      <td>120</td>\n",
       "      <td>NaN</td>\n",
       "      <td>0.124475</td>\n",
       "    </tr>\n",
       "    <tr>\n",
       "      <th>64</th>\n",
       "      <td>num_op_rev_tl</td>\n",
       "      <td>0</td>\n",
       "      <td>float64</td>\n",
       "      <td>79</td>\n",
       "      <td>NaN</td>\n",
       "      <td>0.124475</td>\n",
       "    </tr>\n",
       "    <tr>\n",
       "      <th>65</th>\n",
       "      <td>num_rev_accts</td>\n",
       "      <td>1</td>\n",
       "      <td>float64</td>\n",
       "      <td>112</td>\n",
       "      <td>0.000000</td>\n",
       "      <td>0.124475</td>\n",
       "    </tr>\n",
       "    <tr>\n",
       "      <th>66</th>\n",
       "      <td>num_rev_tl_bal_gt_0</td>\n",
       "      <td>0</td>\n",
       "      <td>float64</td>\n",
       "      <td>49</td>\n",
       "      <td>NaN</td>\n",
       "      <td>0.124475</td>\n",
       "    </tr>\n",
       "    <tr>\n",
       "      <th>67</th>\n",
       "      <td>num_sats</td>\n",
       "      <td>0</td>\n",
       "      <td>float64</td>\n",
       "      <td>88</td>\n",
       "      <td>NaN</td>\n",
       "      <td>0.124475</td>\n",
       "    </tr>\n",
       "    <tr>\n",
       "      <th>68</th>\n",
       "      <td>num_tl_120dpd_2m</td>\n",
       "      <td>69152</td>\n",
       "      <td>float64</td>\n",
       "      <td>8</td>\n",
       "      <td>0.173299</td>\n",
       "      <td>0.122176</td>\n",
       "    </tr>\n",
       "    <tr>\n",
       "      <th>69</th>\n",
       "      <td>num_tl_30dpd</td>\n",
       "      <td>0</td>\n",
       "      <td>float64</td>\n",
       "      <td>5</td>\n",
       "      <td>NaN</td>\n",
       "      <td>0.124475</td>\n",
       "    </tr>\n",
       "    <tr>\n",
       "      <th>70</th>\n",
       "      <td>num_tl_90g_dpd_24m</td>\n",
       "      <td>0</td>\n",
       "      <td>float64</td>\n",
       "      <td>32</td>\n",
       "      <td>NaN</td>\n",
       "      <td>0.124475</td>\n",
       "    </tr>\n",
       "    <tr>\n",
       "      <th>71</th>\n",
       "      <td>num_tl_op_past_12m</td>\n",
       "      <td>0</td>\n",
       "      <td>float64</td>\n",
       "      <td>33</td>\n",
       "      <td>NaN</td>\n",
       "      <td>0.124475</td>\n",
       "    </tr>\n",
       "    <tr>\n",
       "      <th>72</th>\n",
       "      <td>pct_tl_nvr_dlq</td>\n",
       "      <td>1</td>\n",
       "      <td>float64</td>\n",
       "      <td>677</td>\n",
       "      <td>0.000000</td>\n",
       "      <td>0.124475</td>\n",
       "    </tr>\n",
       "    <tr>\n",
       "      <th>73</th>\n",
       "      <td>percent_bc_gt_75</td>\n",
       "      <td>17918</td>\n",
       "      <td>float64</td>\n",
       "      <td>252</td>\n",
       "      <td>0.131153</td>\n",
       "      <td>0.124396</td>\n",
       "    </tr>\n",
       "    <tr>\n",
       "      <th>74</th>\n",
       "      <td>pub_rec_bankruptcies</td>\n",
       "      <td>0</td>\n",
       "      <td>float64</td>\n",
       "      <td>11</td>\n",
       "      <td>NaN</td>\n",
       "      <td>0.124475</td>\n",
       "    </tr>\n",
       "    <tr>\n",
       "      <th>75</th>\n",
       "      <td>tax_liens</td>\n",
       "      <td>0</td>\n",
       "      <td>float64</td>\n",
       "      <td>37</td>\n",
       "      <td>NaN</td>\n",
       "      <td>0.124475</td>\n",
       "    </tr>\n",
       "    <tr>\n",
       "      <th>76</th>\n",
       "      <td>tot_hi_cred_lim</td>\n",
       "      <td>0</td>\n",
       "      <td>float64</td>\n",
       "      <td>468829</td>\n",
       "      <td>NaN</td>\n",
       "      <td>0.124475</td>\n",
       "    </tr>\n",
       "    <tr>\n",
       "      <th>77</th>\n",
       "      <td>total_bal_ex_mort</td>\n",
       "      <td>0</td>\n",
       "      <td>float64</td>\n",
       "      <td>194865</td>\n",
       "      <td>NaN</td>\n",
       "      <td>0.124475</td>\n",
       "    </tr>\n",
       "    <tr>\n",
       "      <th>78</th>\n",
       "      <td>total_bc_limit</td>\n",
       "      <td>0</td>\n",
       "      <td>float64</td>\n",
       "      <td>10870</td>\n",
       "      <td>NaN</td>\n",
       "      <td>0.124475</td>\n",
       "    </tr>\n",
       "    <tr>\n",
       "      <th>79</th>\n",
       "      <td>total_il_high_credit_limit</td>\n",
       "      <td>0</td>\n",
       "      <td>float64</td>\n",
       "      <td>178598</td>\n",
       "      <td>NaN</td>\n",
       "      <td>0.124475</td>\n",
       "    </tr>\n",
       "    <tr>\n",
       "      <th>80</th>\n",
       "      <td>year</td>\n",
       "      <td>0</td>\n",
       "      <td>int64</td>\n",
       "      <td>4</td>\n",
       "      <td>NaN</td>\n",
       "      <td>0.124475</td>\n",
       "    </tr>\n",
       "  </tbody>\n",
       "</table>\n",
       "</div>"
      ],
      "text/plain": [
       "                       feature  missing data_type  unique_count  null_mean  \\\n",
       "0                    loan_amnt        0   float64          1561        NaN   \n",
       "1                         term        0    object             2        NaN   \n",
       "2                     int_rate        0    object           246        NaN   \n",
       "3                  installment        0   float64         78757        NaN   \n",
       "4                        grade        0    object             7        NaN   \n",
       "5                    sub_grade        0    object            35        NaN   \n",
       "6                    emp_title   104986    object        313726   0.151134   \n",
       "7                   emp_length   103798    object            12   0.151795   \n",
       "8               home_ownership        0    object             5        NaN   \n",
       "9                   annual_inc        0   float64         69129        NaN   \n",
       "10         verification_status        0    object             3        NaN   \n",
       "11                 loan_status        0     int64             2        NaN   \n",
       "12                     purpose        0    object            14        NaN   \n",
       "13                       title    23305    object            29   0.209955   \n",
       "14                    zip_code        1    object           943   0.000000   \n",
       "15                  addr_state        0    object            50        NaN   \n",
       "16                         dti     1167   float64          9706   0.052271   \n",
       "17                 delinq_2yrs        0   float64            35        NaN   \n",
       "18            earliest_cr_line        0    object           728        NaN   \n",
       "19              inq_last_6mths        1   float64             8   0.000000   \n",
       "20                    open_acc        0   float64            88        NaN   \n",
       "21                     pub_rec        0   float64            39        NaN   \n",
       "22                   revol_bal        0   float64         92011        NaN   \n",
       "23                  revol_util     1177    object          1293   0.105353   \n",
       "24                   total_acc        0   float64           146        NaN   \n",
       "25         initial_list_status        0    object             2        NaN   \n",
       "26  collections_12_mths_ex_med        0   float64            15        NaN   \n",
       "27            application_type        0    object             2        NaN   \n",
       "28              acc_now_delinq        0   float64             9        NaN   \n",
       "29                tot_coll_amt        0   float64         14084        NaN   \n",
       "30                 tot_cur_bal        0   float64        434137        NaN   \n",
       "31                 open_acc_6m   399785   float64            20   0.183056   \n",
       "32                 open_act_il   399784   float64            54   0.183056   \n",
       "33                 open_il_12m   399784   float64            20   0.183056   \n",
       "34                 open_il_24m   399784   float64            32   0.183056   \n",
       "35          mths_since_rcnt_il   434490   float64           390   0.176681   \n",
       "36                total_bal_il   399784   float64        151705   0.183056   \n",
       "37                 open_rv_12m   399784   float64            30   0.183056   \n",
       "38                 open_rv_24m   399784   float64            51   0.183056   \n",
       "39                  max_bal_bc   399784   float64         32241   0.183056   \n",
       "40                    all_util   399937   float64           185   0.183006   \n",
       "41            total_rev_hi_lim        0   float64         24376        NaN   \n",
       "42                      inq_fi   399784   float64            33   0.183056   \n",
       "43                 total_cu_tl   399785   float64            63   0.183056   \n",
       "44                inq_last_12m   399785   float64            48   0.183056   \n",
       "45        acc_open_past_24mths        0   float64            56        NaN   \n",
       "46                 avg_cur_bal       33   float64         81239   0.060606   \n",
       "47              bc_open_to_buy    17592   float64         83642   0.129945   \n",
       "48                     bc_util    18363   float64          1443   0.131188   \n",
       "49    chargeoff_within_12_mths        0   float64            11        NaN   \n",
       "50                 delinq_amnt        0   float64          2297        NaN   \n",
       "51          mo_sin_old_il_acct    46404   float64           551   0.122231   \n",
       "52        mo_sin_old_rev_tl_op        0   float64           769        NaN   \n",
       "53       mo_sin_rcnt_rev_tl_op        0   float64           316        NaN   \n",
       "54              mo_sin_rcnt_tl        0   float64           219        NaN   \n",
       "55                    mort_acc        0   float64            45        NaN   \n",
       "56        mths_since_recent_bc    16662   float64           524   0.129876   \n",
       "57       mths_since_recent_inq   171277   float64            27   0.081342   \n",
       "58       num_accts_ever_120_pd        0   float64            43        NaN   \n",
       "59              num_actv_bc_tl        0   float64            41        NaN   \n",
       "60             num_actv_rev_tl        0   float64            56        NaN   \n",
       "61                 num_bc_sats        0   float64            59        NaN   \n",
       "62                   num_bc_tl        0   float64            74        NaN   \n",
       "63                   num_il_tl        0   float64           120        NaN   \n",
       "64               num_op_rev_tl        0   float64            79        NaN   \n",
       "65               num_rev_accts        1   float64           112   0.000000   \n",
       "66         num_rev_tl_bal_gt_0        0   float64            49        NaN   \n",
       "67                    num_sats        0   float64            88        NaN   \n",
       "68            num_tl_120dpd_2m    69152   float64             8   0.173299   \n",
       "69                num_tl_30dpd        0   float64             5        NaN   \n",
       "70          num_tl_90g_dpd_24m        0   float64            32        NaN   \n",
       "71          num_tl_op_past_12m        0   float64            33        NaN   \n",
       "72              pct_tl_nvr_dlq        1   float64           677   0.000000   \n",
       "73            percent_bc_gt_75    17918   float64           252   0.131153   \n",
       "74        pub_rec_bankruptcies        0   float64            11        NaN   \n",
       "75                   tax_liens        0   float64            37        NaN   \n",
       "76             tot_hi_cred_lim        0   float64        468829        NaN   \n",
       "77           total_bal_ex_mort        0   float64        194865        NaN   \n",
       "78              total_bc_limit        0   float64         10870        NaN   \n",
       "79  total_il_high_credit_limit        0   float64        178598        NaN   \n",
       "80                        year        0     int64             4        NaN   \n",
       "\n",
       "    not_null_mean  \n",
       "0        0.124475  \n",
       "1        0.124475  \n",
       "2        0.124475  \n",
       "3        0.124475  \n",
       "4        0.124475  \n",
       "5        0.124475  \n",
       "6        0.122521  \n",
       "7        0.122497  \n",
       "8        0.124475  \n",
       "9        0.124475  \n",
       "10       0.124475  \n",
       "11       0.124475  \n",
       "12       0.124475  \n",
       "13       0.123159  \n",
       "14       0.124475  \n",
       "15       0.124475  \n",
       "16       0.124530  \n",
       "17       0.124475  \n",
       "18       0.124475  \n",
       "19       0.124475  \n",
       "20       0.124475  \n",
       "21       0.124475  \n",
       "22       0.124475  \n",
       "23       0.124489  \n",
       "24       0.124475  \n",
       "25       0.124475  \n",
       "26       0.124475  \n",
       "27       0.124475  \n",
       "28       0.124475  \n",
       "29       0.124475  \n",
       "30       0.124475  \n",
       "31       0.103894  \n",
       "32       0.103894  \n",
       "33       0.103894  \n",
       "34       0.103894  \n",
       "35       0.103914  \n",
       "36       0.103894  \n",
       "37       0.103894  \n",
       "38       0.103894  \n",
       "39       0.103894  \n",
       "40       0.103901  \n",
       "41       0.124475  \n",
       "42       0.103894  \n",
       "43       0.103894  \n",
       "44       0.103894  \n",
       "45       0.124475  \n",
       "46       0.124476  \n",
       "47       0.124411  \n",
       "48       0.124394  \n",
       "49       0.124475  \n",
       "50       0.124475  \n",
       "51       0.124545  \n",
       "52       0.124475  \n",
       "53       0.124475  \n",
       "54       0.124475  \n",
       "55       0.124475  \n",
       "56       0.124416  \n",
       "57       0.129881  \n",
       "58       0.124475  \n",
       "59       0.124475  \n",
       "60       0.124475  \n",
       "61       0.124475  \n",
       "62       0.124475  \n",
       "63       0.124475  \n",
       "64       0.124475  \n",
       "65       0.124475  \n",
       "66       0.124475  \n",
       "67       0.124475  \n",
       "68       0.122176  \n",
       "69       0.124475  \n",
       "70       0.124475  \n",
       "71       0.124475  \n",
       "72       0.124475  \n",
       "73       0.124396  \n",
       "74       0.124475  \n",
       "75       0.124475  \n",
       "76       0.124475  \n",
       "77       0.124475  \n",
       "78       0.124475  \n",
       "79       0.124475  \n",
       "80       0.124475  "
      ]
     },
     "execution_count": 34,
     "metadata": {},
     "output_type": "execute_result"
    }
   ],
   "source": [
    "# Missing data information\n",
    "data_null = data.isnull().sum()\n",
    "data_null = data_null.reset_index()\n",
    "data_null = data_null.rename(columns={'index': 'feature', 0: 'missing'})\n",
    "\n",
    "data_type = []\n",
    "unique_count = []\n",
    "target_mean_null = []\n",
    "target_mean_not_null = []\n",
    "\n",
    "for feature in data_null['feature']:\n",
    "    data_type.append(data[feature].dtype)\n",
    "    unique_count.append(len(data[feature].unique()))\n",
    "    target_mean_null.append(data[data[feature].isnull()]['loan_status'].mean())\n",
    "    target_mean_not_null.append(data[~data[feature].isnull()]['loan_status'].mean())\n",
    "    \n",
    "data_null['data_type'] = data_type\n",
    "data_null['unique_count'] = unique_count\n",
    "data_null['null_mean'] = target_mean_null\n",
    "data_null['not_null_mean'] = target_mean_not_null\n",
    "\n",
    "data_null"
   ]
  },
  {
   "cell_type": "markdown",
   "metadata": {},
   "source": [
    "## Imputing Missing Data"
   ]
  },
  {
   "cell_type": "code",
   "execution_count": 35,
   "metadata": {},
   "outputs": [],
   "source": [
    "# Drop `emp_title` since it contains many categories \n",
    "data = data.drop(labels = 'emp_title', axis = 1)"
   ]
  },
  {
   "cell_type": "markdown",
   "metadata": {},
   "source": [
    "This variable should be important if we consider a *Doctor* has a higher probability of paying a loan compared to a *Student*, however this should also be reflected in other financial data collected for the loan applicant."
   ]
  },
  {
   "cell_type": "code",
   "execution_count": 36,
   "metadata": {},
   "outputs": [],
   "source": [
    "# `emp_length`, since the order matters, we will fill the missing value with mode\n",
    "emp_length_mode = data['emp_length'].mode()[0]\n",
    "data['emp_length'] = data['emp_length'].fillna(value=emp_length_mode)"
   ]
  },
  {
   "cell_type": "code",
   "execution_count": 37,
   "metadata": {},
   "outputs": [],
   "source": [
    "# `title`, we will fill the missing value with `na`\n",
    "data['title'] = data['title'].fillna(value='na')"
   ]
  },
  {
   "cell_type": "code",
   "execution_count": 38,
   "metadata": {},
   "outputs": [],
   "source": [
    "# `zip_code` drop the one row\n",
    "data = data.dropna(subset=['zip_code'])"
   ]
  },
  {
   "cell_type": "code",
   "execution_count": 39,
   "metadata": {},
   "outputs": [],
   "source": [
    "# `dti` fill the missing value with the median \n",
    "dti_median = data['dti'].median()\n",
    "data['dti'] = data['dti'].fillna(value=dti_median)"
   ]
  },
  {
   "cell_type": "code",
   "execution_count": 40,
   "metadata": {},
   "outputs": [],
   "source": [
    "# `inq_last_6mths` drop the one row\n",
    "data = data.dropna(subset=['inq_last_6mths'])"
   ]
  },
  {
   "cell_type": "code",
   "execution_count": 62,
   "metadata": {
    "scrolled": true
   },
   "outputs": [],
   "source": [
    "# `revol_util' fill the missing value with the median \n",
    "# First fix the values by stripping % and converting to float \n",
    "data['revol_util'] = [float(str(val).split('%')[0]) for val in data['revol_util'].values]\n",
    "revol_util_median = data['revol_util'].median()\n",
    "data['revol_util'] = data['revol_util'].fillna(value=revol_util_median)"
   ]
  },
  {
   "cell_type": "code",
   "execution_count": 68,
   "metadata": {},
   "outputs": [],
   "source": [
    "# Drop the following features as they still have a very large number of missing values \n",
    "# and imputation can change the distribution significantly \n",
    "# `open_acc_6m`, `open_act_il`, `open_il_12m`, `open_il_24m`, `mths_since_rcnt_il`, `total_bal_il`,\n",
    "# `open_rv_12m`, `open_rv_24m`, `max_bal_bc`, `all_util`, `inq_fi`, `total_cu_tl`, `inq_last_12m`\n",
    "data = data.dropna(subset=['open_acc_6m', 'open_act_il', 'open_il_12m', \n",
    "                           'open_il_24m', 'mths_since_rcnt_il', 'total_bal_il',\n",
    "                          'open_rv_12m', 'open_rv_24m', 'max_bal_bc', \n",
    "                           'all_util', 'inq_fi', 'total_cu_tl', 'inq_last_12m'])"
   ]
  },
  {
   "cell_type": "code",
   "execution_count": 70,
   "metadata": {},
   "outputs": [],
   "source": [
    "# avg_cur_bal`, fill the missing value with the median \n",
    "avg_cur_bal_median = data['avg_cur_bal'].median()\n",
    "data['avg_cur_bal'] = data['avg_cur_bal'].fillna(value=avg_cur_bal_median)"
   ]
  },
  {
   "cell_type": "code",
   "execution_count": 71,
   "metadata": {},
   "outputs": [],
   "source": [
    "# `bc_open_to_buy`, fill the missing value with the median\n",
    "bc_open_to_buy_median = data['bc_open_to_buy'].median()\n",
    "data['bc_open_to_buy'] = data['bc_open_to_buy'].fillna(value=bc_open_to_buy_median)"
   ]
  },
  {
   "cell_type": "code",
   "execution_count": 72,
   "metadata": {},
   "outputs": [],
   "source": [
    "# `bc_util`, fill the missing value with the median \n",
    "bc_util_median = data['bc_util'].median()\n",
    "data['bc_util'] = data['bc_util'].fillna(value=bc_util_median)"
   ]
  },
  {
   "cell_type": "code",
   "execution_count": 73,
   "metadata": {},
   "outputs": [],
   "source": [
    "# `mo_sin_old_il_acct`, fill the missing value with the median \n",
    "mo_sin_old_il_acct_median = data['mo_sin_old_il_acct'].median()\n",
    "data['mo_sin_old_il_acct'] = data['mo_sin_old_il_acct'].fillna(value=mo_sin_old_il_acct_median)"
   ]
  },
  {
   "cell_type": "code",
   "execution_count": 74,
   "metadata": {},
   "outputs": [],
   "source": [
    "# `mths_since_recent_bc`, fill the missing value with the median to make it more robust\n",
    "mths_since_recent_bc_median = data['mths_since_recent_bc'].median()\n",
    "data['mths_since_recent_bc'] = data['mths_since_recent_bc'].fillna(value=mths_since_recent_bc_median)"
   ]
  },
  {
   "cell_type": "code",
   "execution_count": 75,
   "metadata": {},
   "outputs": [],
   "source": [
    "# for `mths_since_recent_inq`, fill the missing value with the median to make it more robust\n",
    "mths_since_recent_inq_median = data['mths_since_recent_inq'].median()\n",
    "data['mths_since_recent_inq'] = data['mths_since_recent_inq'].fillna(value=mths_since_recent_inq_median)"
   ]
  },
  {
   "cell_type": "code",
   "execution_count": 76,
   "metadata": {},
   "outputs": [],
   "source": [
    "# `num_rev_accts` drop the one row\n",
    "data = data.dropna(subset=['num_rev_accts'])"
   ]
  },
  {
   "cell_type": "code",
   "execution_count": 77,
   "metadata": {},
   "outputs": [],
   "source": [
    "# for `num_tl_120dpd_2m`, fill the missing value with 0\n",
    "data['num_tl_120dpd_2m'] = data['num_tl_120dpd_2m'].fillna(value=0)"
   ]
  },
  {
   "cell_type": "code",
   "execution_count": 78,
   "metadata": {},
   "outputs": [],
   "source": [
    "# `pct_tl_nvr_dlq` drop the one row\n",
    "data = data.dropna(subset=['pct_tl_nvr_dlq'])"
   ]
  },
  {
   "cell_type": "code",
   "execution_count": 79,
   "metadata": {},
   "outputs": [],
   "source": [
    "# `percent_bc_gt_75`, fill the missing value with the median\n",
    "percent_bc_gt_75_median = data['percent_bc_gt_75'].median()\n",
    "data['percent_bc_gt_75'] = data['percent_bc_gt_75'].fillna(value=percent_bc_gt_75_median)"
   ]
  },
  {
   "cell_type": "code",
   "execution_count": 85,
   "metadata": {},
   "outputs": [],
   "source": [
    "# Recheck Missing data information\n",
    "data_null = data.isnull().sum()\n",
    "data_null = data_null.reset_index()\n",
    "data_null = data_null.rename(columns={'index': 'feature', 0: 'missing'})\n",
    "\n",
    "data_type = []\n",
    "unique_count = []\n",
    "target_mean_null = []\n",
    "target_mean_not_null = []\n",
    "\n",
    "for feature in data_null['feature']:\n",
    "    data_type.append(data[feature].dtype)\n",
    "    unique_count.append(len(data[feature].unique()))\n",
    "    target_mean_null.append(data[data[feature].isnull()]['loan_status'].mean())\n",
    "    target_mean_not_null.append(data[~data[feature].isnull()]['loan_status'].mean())\n",
    "    \n",
    "data_null['data_type'] = data_type\n",
    "data_null['unique_count'] = unique_count\n",
    "data_null['null_mean'] = target_mean_null\n",
    "data_null['not_null_mean'] = target_mean_not_null"
   ]
  },
  {
   "cell_type": "markdown",
   "metadata": {},
   "source": [
    "## Encode Data Features"
   ]
  },
  {
   "cell_type": "code",
   "execution_count": 86,
   "metadata": {},
   "outputs": [
    {
     "data": {
      "text/html": [
       "<div>\n",
       "<style scoped>\n",
       "    .dataframe tbody tr th:only-of-type {\n",
       "        vertical-align: middle;\n",
       "    }\n",
       "\n",
       "    .dataframe tbody tr th {\n",
       "        vertical-align: top;\n",
       "    }\n",
       "\n",
       "    .dataframe thead th {\n",
       "        text-align: right;\n",
       "    }\n",
       "</style>\n",
       "<table border=\"1\" class=\"dataframe\">\n",
       "  <thead>\n",
       "    <tr style=\"text-align: right;\">\n",
       "      <th></th>\n",
       "      <th>feature</th>\n",
       "      <th>unique_count</th>\n",
       "    </tr>\n",
       "  </thead>\n",
       "  <tbody>\n",
       "    <tr>\n",
       "      <th>1</th>\n",
       "      <td>term</td>\n",
       "      <td>2</td>\n",
       "    </tr>\n",
       "    <tr>\n",
       "      <th>2</th>\n",
       "      <td>int_rate</td>\n",
       "      <td>209</td>\n",
       "    </tr>\n",
       "    <tr>\n",
       "      <th>4</th>\n",
       "      <td>grade</td>\n",
       "      <td>7</td>\n",
       "    </tr>\n",
       "    <tr>\n",
       "      <th>5</th>\n",
       "      <td>sub_grade</td>\n",
       "      <td>35</td>\n",
       "    </tr>\n",
       "    <tr>\n",
       "      <th>6</th>\n",
       "      <td>emp_length</td>\n",
       "      <td>11</td>\n",
       "    </tr>\n",
       "    <tr>\n",
       "      <th>7</th>\n",
       "      <td>home_ownership</td>\n",
       "      <td>5</td>\n",
       "    </tr>\n",
       "    <tr>\n",
       "      <th>9</th>\n",
       "      <td>verification_status</td>\n",
       "      <td>3</td>\n",
       "    </tr>\n",
       "    <tr>\n",
       "      <th>11</th>\n",
       "      <td>purpose</td>\n",
       "      <td>14</td>\n",
       "    </tr>\n",
       "    <tr>\n",
       "      <th>12</th>\n",
       "      <td>title</td>\n",
       "      <td>15</td>\n",
       "    </tr>\n",
       "    <tr>\n",
       "      <th>13</th>\n",
       "      <td>zip_code</td>\n",
       "      <td>923</td>\n",
       "    </tr>\n",
       "    <tr>\n",
       "      <th>14</th>\n",
       "      <td>addr_state</td>\n",
       "      <td>50</td>\n",
       "    </tr>\n",
       "    <tr>\n",
       "      <th>17</th>\n",
       "      <td>earliest_cr_line</td>\n",
       "      <td>715</td>\n",
       "    </tr>\n",
       "    <tr>\n",
       "      <th>24</th>\n",
       "      <td>initial_list_status</td>\n",
       "      <td>2</td>\n",
       "    </tr>\n",
       "    <tr>\n",
       "      <th>26</th>\n",
       "      <td>application_type</td>\n",
       "      <td>2</td>\n",
       "    </tr>\n",
       "  </tbody>\n",
       "</table>\n",
       "</div>"
      ],
      "text/plain": [
       "                feature  unique_count\n",
       "1                  term             2\n",
       "2              int_rate           209\n",
       "4                 grade             7\n",
       "5             sub_grade            35\n",
       "6            emp_length            11\n",
       "7        home_ownership             5\n",
       "9   verification_status             3\n",
       "11              purpose            14\n",
       "12                title            15\n",
       "13             zip_code           923\n",
       "14           addr_state            50\n",
       "17     earliest_cr_line           715\n",
       "24  initial_list_status             2\n",
       "26     application_type             2"
      ]
     },
     "execution_count": 86,
     "metadata": {},
     "output_type": "execute_result"
    }
   ],
   "source": [
    "# Get features which need to be encoded\n",
    "data_null[data_null['data_type'] == object][['feature','unique_count']]"
   ]
  },
  {
   "cell_type": "code",
   "execution_count": 88,
   "metadata": {},
   "outputs": [],
   "source": [
    "# Helper function for encoding categorical variables\n",
    "def encode(variable, db, levels):\n",
    "    # Encode levels as integers\n",
    "    for key in levels.keys():\n",
    "        indx = (db[variable] == key)\n",
    "        db[variable][indx] = levels[key]"
   ]
  },
  {
   "cell_type": "markdown",
   "metadata": {},
   "source": [
    "### 1. term"
   ]
  },
  {
   "cell_type": "markdown",
   "metadata": {},
   "source": [
    "Since there are only two term level 36 and 60 months we will label encode them"
   ]
  },
  {
   "cell_type": "code",
   "execution_count": 87,
   "metadata": {},
   "outputs": [
    {
     "data": {
      "text/plain": [
       " 36 months    796925\n",
       " 60 months    306178\n",
       "Name: term, dtype: int64"
      ]
     },
     "execution_count": 87,
     "metadata": {},
     "output_type": "execute_result"
    }
   ],
   "source": [
    "data['term'].value_counts()"
   ]
  },
  {
   "cell_type": "code",
   "execution_count": 89,
   "metadata": {},
   "outputs": [],
   "source": [
    "# Encode term\n",
    "term_levels = {\n",
    "    '36 months':0,\n",
    "    '60 months':1,\n",
    "}\n",
    "encode('term', data, term_levels)"
   ]
  },
  {
   "cell_type": "markdown",
   "metadata": {},
   "source": [
    "### 2. int_rate"
   ]
  },
  {
   "cell_type": "markdown",
   "metadata": {},
   "source": [
    "Interest rates should be numerical value and not be encoded, here we need to just clean up the variable from object to float."
   ]
  },
  {
   "cell_type": "code",
   "execution_count": 90,
   "metadata": {},
   "outputs": [],
   "source": [
    "# Fix the values by stripping % and converting to float \n",
    "data['int_rate'] = [float(str(val).split('%')[0]) for val in data['int_rate'].values]"
   ]
  },
  {
   "cell_type": "markdown",
   "metadata": {},
   "source": [
    "### 3. grade and sub_grade"
   ]
  },
  {
   "cell_type": "markdown",
   "metadata": {},
   "source": [
    "Grade determine the type of loan risk determined by Lending Club, A denotes lower interest safer loans while grade G denotes high risk loans."
   ]
  },
  {
   "cell_type": "code",
   "execution_count": 91,
   "metadata": {},
   "outputs": [
    {
     "data": {
      "text/plain": [
       "C    336089\n",
       "B    333841\n",
       "A    208186\n",
       "D    147672\n",
       "E     53817\n",
       "F     17224\n",
       "G      6274\n",
       "Name: grade, dtype: int64"
      ]
     },
     "execution_count": 91,
     "metadata": {},
     "output_type": "execute_result"
    }
   ],
   "source": [
    "data['grade'].value_counts()"
   ]
  },
  {
   "cell_type": "code",
   "execution_count": 92,
   "metadata": {},
   "outputs": [],
   "source": [
    "# Encode grade\n",
    "grade_levels = {\n",
    "    'A':6,\n",
    "    'B':5,\n",
    "    'C':4,\n",
    "    'D':3,\n",
    "    'E':2,\n",
    "    'F':1,\n",
    "    'G':0\n",
    "}\n",
    "encode('grade', data, grade_levels)"
   ]
  },
  {
   "cell_type": "markdown",
   "metadata": {},
   "source": [
    "Each Grade is further divided into 5 subgrades by Lending Club, since we have grade feature we shall only retain the level in subgrade feature. "
   ]
  },
  {
   "cell_type": "code",
   "execution_count": 113,
   "metadata": {},
   "outputs": [],
   "source": [
    "data['sub_grade'].value_counts();"
   ]
  },
  {
   "cell_type": "code",
   "execution_count": 110,
   "metadata": {},
   "outputs": [],
   "source": [
    "# Get the jsut the numerical value and store that as sub grade\n",
    "data['sub_grade'] = [int(val[1]) for val in data['sub_grade'].values]"
   ]
  },
  {
   "cell_type": "markdown",
   "metadata": {},
   "source": [
    "### 4. emp_length"
   ]
  },
  {
   "cell_type": "markdown",
   "metadata": {},
   "source": [
    "We will encode employment length according to number of years"
   ]
  },
  {
   "cell_type": "code",
   "execution_count": 114,
   "metadata": {},
   "outputs": [
    {
     "data": {
      "text/plain": [
       "10+ years    449897\n",
       "2 years      101044\n",
       "< 1 year      90396\n",
       "3 years       88975\n",
       "1 year        72648\n",
       "4 years       67496\n",
       "5 years       67399\n",
       "6 years       48109\n",
       "8 years       39613\n",
       "7 years       38868\n",
       "9 years       38658\n",
       "Name: emp_length, dtype: int64"
      ]
     },
     "execution_count": 114,
     "metadata": {},
     "output_type": "execute_result"
    }
   ],
   "source": [
    "data['emp_length'].value_counts()"
   ]
  },
  {
   "cell_type": "code",
   "execution_count": 115,
   "metadata": {},
   "outputs": [],
   "source": [
    "# Encode emp_length\n",
    "emp_length_levels = {'< 1 year': 0, \n",
    "                  '1 year': 1, \n",
    "                  '2 years': 2, \n",
    "                  '3 years': 3, \n",
    "                  '4 years': 4, \n",
    "                  '5 years': 5, \n",
    "                  '6 years': 6, \n",
    "                  '7 years': 7, \n",
    "                  '8 years': 9, \n",
    "                  '9 years': 9, \n",
    "                  '10+ years': 10}\n",
    "\n",
    "encode('emp_length', data, emp_length_levels)"
   ]
  },
  {
   "cell_type": "markdown",
   "metadata": {},
   "source": [
    "### 5. home_ownership"
   ]
  },
  {
   "cell_type": "code",
   "execution_count": 117,
   "metadata": {},
   "outputs": [
    {
     "data": {
      "text/plain": [
       "MORTGAGE    543740\n",
       "RENT        425790\n",
       "OWN         133060\n",
       "ANY            509\n",
       "NONE             4\n",
       "Name: home_ownership, dtype: int64"
      ]
     },
     "execution_count": 117,
     "metadata": {},
     "output_type": "execute_result"
    }
   ],
   "source": [
    "data['home_ownership'].value_counts()"
   ]
  },
  {
   "cell_type": "markdown",
   "metadata": {},
   "source": [
    "We will club ANY and NONE category together and label encode the 4 categories, we assume here that the people who OWN > RENT > MORTGAGE > OTHER. This should normally be checked before making this assumption."
   ]
  },
  {
   "cell_type": "code",
   "execution_count": 118,
   "metadata": {},
   "outputs": [],
   "source": [
    "home_ownership_level = {'MORTGAGE': 1, \n",
    "                  'RENT': 2, \n",
    "                  'OWN': 3, \n",
    "                  'ANY': 0, \n",
    "                  'NONE':0}\n",
    "\n",
    "encode('home_ownership', data, home_ownership_level)"
   ]
  },
  {
   "cell_type": "markdown",
   "metadata": {},
   "source": [
    "### 6. verification_status"
   ]
  },
  {
   "cell_type": "code",
   "execution_count": 119,
   "metadata": {},
   "outputs": [
    {
     "data": {
      "text/plain": [
       "Source Verified    440731\n",
       "Not Verified       372652\n",
       "Verified           289720\n",
       "Name: verification_status, dtype: int64"
      ]
     },
     "execution_count": 119,
     "metadata": {},
     "output_type": "execute_result"
    }
   ],
   "source": [
    "data['verification_status'].value_counts()"
   ]
  },
  {
   "cell_type": "code",
   "execution_count": 120,
   "metadata": {},
   "outputs": [],
   "source": [
    "verification_status_level = {'Source Verified': 1, \n",
    "                  'Not Verified': 0, \n",
    "                  'Verified': 2, }\n",
    "\n",
    "encode('verification_status', data, verification_status_level)"
   ]
  },
  {
   "cell_type": "markdown",
   "metadata": {},
   "source": [
    "### 6. purpose"
   ]
  },
  {
   "cell_type": "code",
   "execution_count": 121,
   "metadata": {},
   "outputs": [],
   "source": [
    "# For now we will drop the purpose, since purpose will keep varying in future and it will be hard to come with\n",
    "# fixed categories\n",
    "data = data.drop(labels=['purpose'], axis=1)"
   ]
  },
  {
   "cell_type": "markdown",
   "metadata": {},
   "source": [
    "### 7. title"
   ]
  },
  {
   "cell_type": "code",
   "execution_count": 123,
   "metadata": {},
   "outputs": [],
   "source": [
    "# First change into lower case\n",
    "data['title'] = data['title'].apply(str.lower)"
   ]
  },
  {
   "cell_type": "code",
   "execution_count": 128,
   "metadata": {},
   "outputs": [],
   "source": [
    "title_list = ['debt consolidation', \n",
    "              'credit card refinancing', \n",
    "              'home improvement',\n",
    "              'other', \n",
    "              'major purchase', \n",
    "              'medical expenses', \n",
    "              'car financing',\n",
    "              'business', \n",
    "              'vacation', \n",
    "              'home buying', \n",
    "              'moving and relocation',\n",
    "              'green loan', \n",
    "              'credit card consolidation', \n",
    "              'learning and training']\n",
    "\n",
    "data.loc[~data['title'].isin(title_list), 'title'] = 'other'"
   ]
  },
  {
   "cell_type": "markdown",
   "metadata": {},
   "source": [
    "### 8. earliest_cr_line"
   ]
  },
  {
   "cell_type": "code",
   "execution_count": 136,
   "metadata": {},
   "outputs": [],
   "source": [
    "# Only store the year\n",
    "data['earliest_cr_line'] = data['earliest_cr_line'].apply(lambda x: x.split('-')[1])"
   ]
  },
  {
   "cell_type": "code",
   "execution_count": 148,
   "metadata": {},
   "outputs": [],
   "source": [
    "# Convert str to int\n",
    "df = data['earliest_cr_line'].apply(lambda x: int(x))"
   ]
  },
  {
   "cell_type": "code",
   "execution_count": 152,
   "metadata": {},
   "outputs": [],
   "source": [
    "# Creat new variable credit age\n",
    "data['credit_age'] =  data['year'].values - df.values"
   ]
  },
  {
   "cell_type": "code",
   "execution_count": 156,
   "metadata": {},
   "outputs": [],
   "source": [
    "# Drop variable earliest_cr_line\n",
    "data = data.drop(labels=['earliest_cr_line'], axis=1)"
   ]
  },
  {
   "cell_type": "markdown",
   "metadata": {},
   "source": [
    "### 9. initial_list_status, application_type"
   ]
  },
  {
   "cell_type": "code",
   "execution_count": 159,
   "metadata": {},
   "outputs": [],
   "source": [
    "# Drop variables\n",
    "data = data.drop(labels=['initial_list_status','application_type'], axis=1)"
   ]
  },
  {
   "cell_type": "markdown",
   "metadata": {},
   "source": [
    "### 10. zip_code, addr_state"
   ]
  },
  {
   "cell_type": "code",
   "execution_count": 160,
   "metadata": {},
   "outputs": [],
   "source": [
    "# For now we will drop zip_code, however this could be a good feature, there might be low income regions\n",
    "# Which we might be able to identify from the zip_code and use it to weigh risk of loan default\n",
    "data = data.drop(labels=['zip_code'], axis=1)"
   ]
  },
  {
   "cell_type": "markdown",
   "metadata": {},
   "source": [
    "## Final Data"
   ]
  },
  {
   "cell_type": "code",
   "execution_count": 164,
   "metadata": {},
   "outputs": [
    {
     "name": "stdout",
     "output_type": "stream",
     "text": [
      "<class 'pandas.core.frame.DataFrame'>\n",
      "Int64Index: 1103103 entries, 0 to 1537716\n",
      "Columns: 76 entries, loan_amnt to credit_age\n",
      "dtypes: float64(65), int64(4), object(7)\n",
      "memory usage: 648.0+ MB\n"
     ]
    }
   ],
   "source": [
    "# Summary of final data\n",
    "data.reset_index()\n",
    "data.info(verbose = False)"
   ]
  },
  {
   "cell_type": "markdown",
   "metadata": {},
   "source": [
    "We have 1.1 M data points with 76 features left from over original dataset of 1.5 M with 146 features. We can now split the dataset into train and test split"
   ]
  },
  {
   "cell_type": "code",
   "execution_count": 171,
   "metadata": {},
   "outputs": [
    {
     "data": {
      "text/html": [
       "<div>\n",
       "<style scoped>\n",
       "    .dataframe tbody tr th:only-of-type {\n",
       "        vertical-align: middle;\n",
       "    }\n",
       "\n",
       "    .dataframe tbody tr th {\n",
       "        vertical-align: top;\n",
       "    }\n",
       "\n",
       "    .dataframe thead th {\n",
       "        text-align: right;\n",
       "    }\n",
       "</style>\n",
       "<table border=\"1\" class=\"dataframe\">\n",
       "  <thead>\n",
       "    <tr style=\"text-align: right;\">\n",
       "      <th></th>\n",
       "      <th>year</th>\n",
       "      <th>counts</th>\n",
       "      <th>ratio</th>\n",
       "    </tr>\n",
       "  </thead>\n",
       "  <tbody>\n",
       "    <tr>\n",
       "      <th>0</th>\n",
       "      <td>2015</td>\n",
       "      <td>20810</td>\n",
       "      <td>0.018865</td>\n",
       "    </tr>\n",
       "    <tr>\n",
       "      <th>1</th>\n",
       "      <td>2016</td>\n",
       "      <td>422627</td>\n",
       "      <td>0.383126</td>\n",
       "    </tr>\n",
       "    <tr>\n",
       "      <th>2</th>\n",
       "      <td>2017</td>\n",
       "      <td>430394</td>\n",
       "      <td>0.390167</td>\n",
       "    </tr>\n",
       "    <tr>\n",
       "      <th>3</th>\n",
       "      <td>2018</td>\n",
       "      <td>229272</td>\n",
       "      <td>0.207843</td>\n",
       "    </tr>\n",
       "  </tbody>\n",
       "</table>\n",
       "</div>"
      ],
      "text/plain": [
       "   year  counts     ratio\n",
       "0  2015   20810  0.018865\n",
       "1  2016  422627  0.383126\n",
       "2  2017  430394  0.390167\n",
       "3  2018  229272  0.207843"
      ]
     },
     "execution_count": 171,
     "metadata": {},
     "output_type": "execute_result"
    }
   ],
   "source": [
    "# calculate the number of records for each year\n",
    "year_count = data.groupby('year')['loan_status'].count()\n",
    "year_count = year_count.reset_index()\n",
    "year_count = year_count.rename(columns={'loan_status': 'counts'})\n",
    "year_count['ratio'] = year_count['counts'] / len(data)\n",
    "year_count"
   ]
  },
  {
   "cell_type": "markdown",
   "metadata": {},
   "source": [
    "We will split the data into training and test, the data collecter before 2018 will be used to train the ML model while the data collected in 2018 will be used as the test set"
   ]
  },
  {
   "cell_type": "code",
   "execution_count": 175,
   "metadata": {},
   "outputs": [],
   "source": [
    "# split into train and test set\n",
    "train = data[data['year'] < 2018]\n",
    "test = data[data['year'] >= 2018]"
   ]
  },
  {
   "cell_type": "code",
   "execution_count": 177,
   "metadata": {},
   "outputs": [
    {
     "name": "stdout",
     "output_type": "stream",
     "text": [
      "Training set:  (873831, 76) 0.79\n",
      "Test set:  (229272, 76) 0.21\n"
     ]
    }
   ],
   "source": [
    "# Print size\n",
    "print('Training set: ', train.shape, round(len(train) / len(data), 2))\n",
    "print('Test set: ', test.shape, round(len(test) / len(data), 2))"
   ]
  },
  {
   "cell_type": "markdown",
   "metadata": {},
   "source": [
    "The training set consist of 80% of the data and test consit of 20% of the data. We will also check the balance of the loan paid / defaulted among the sets"
   ]
  },
  {
   "cell_type": "code",
   "execution_count": 179,
   "metadata": {},
   "outputs": [
    {
     "name": "stdout",
     "output_type": "stream",
     "text": [
      "loan_status 1: 0.12\n",
      "loan_status 0: 0.88\n"
     ]
    }
   ],
   "source": [
    "# imbalanced dataset\n",
    "loan_status_1 = train['loan_status'].sum()\n",
    "loan_status_0 = (1 - train['loan_status']).sum()\n",
    "print('loan_status 1:', np.round(loan_status_1 / len(train), 2))\n",
    "print('loan_status 0:', np.round(loan_status_0 / len(train), 2))"
   ]
  },
  {
   "cell_type": "markdown",
   "metadata": {},
   "source": [
    "The dataset is imbalanced with only 12% of loan defaulted between 2015-2017, hence we will need to take this into account while training the machine learning model"
   ]
  },
  {
   "cell_type": "code",
   "execution_count": 180,
   "metadata": {},
   "outputs": [],
   "source": [
    "# Save train and test set\n",
    "train.to_csv('./data/train.csv', index=False)\n",
    "test.to_csv('./data/test.csv', index=False)"
   ]
  },
  {
   "cell_type": "code",
   "execution_count": null,
   "metadata": {},
   "outputs": [],
   "source": []
  }
 ],
 "metadata": {
  "kernelspec": {
   "display_name": "Python 3",
   "language": "python",
   "name": "python3"
  },
  "language_info": {
   "codemirror_mode": {
    "name": "ipython",
    "version": 3
   },
   "file_extension": ".py",
   "mimetype": "text/x-python",
   "name": "python",
   "nbconvert_exporter": "python",
   "pygments_lexer": "ipython3",
   "version": "3.6.5"
  }
 },
 "nbformat": 4,
 "nbformat_minor": 2
}
